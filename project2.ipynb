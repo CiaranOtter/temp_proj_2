{
 "cells": [
  {
   "cell_type": "markdown",
   "metadata": {},
   "source": [
    "# Project 2"
   ]
  },
  {
   "cell_type": "markdown",
   "metadata": {},
   "source": [
    "## Setup \n",
    "\n",
    "Download the data from the worldbank"
   ]
  },
  {
   "cell_type": "code",
   "execution_count": 3,
   "metadata": {},
   "outputs": [
    {
     "name": "stdout",
     "output_type": "stream",
     "text": [
      "mkdir: cannot create directory ‘data’: File exists\n",
      "--2024-09-26 15:54:58--  https://databank.worldbank.org/data/download/EdStats_CSV.zip\n",
      "Resolving databank.worldbank.org (databank.worldbank.org)... 104.18.42.231, 172.64.145.25, 2606:4700:4400::ac40:9119, ...\n",
      "Connecting to databank.worldbank.org (databank.worldbank.org)|104.18.42.231|:443... connected.\n",
      "HTTP request sent, awaiting response... 301 Moved Permanently\n",
      "Location: https://databankfiles.worldbank.org/public/ddpext_download/EdStats_CSV.zip [following]\n",
      "--2024-09-26 15:54:58--  https://databankfiles.worldbank.org/public/ddpext_download/EdStats_CSV.zip\n",
      "Resolving databankfiles.worldbank.org (databankfiles.worldbank.org)... 13.107.246.56, 2620:1ec:bdf::56\n",
      "Connecting to databankfiles.worldbank.org (databankfiles.worldbank.org)|13.107.246.56|:443... connected.\n",
      "HTTP request sent, awaiting response... 200 OK\n",
      "Length: 38943514 (37M) [application/x-zip-compressed]\n",
      "Saving to: ‘EdStats_CSV.zip’\n",
      "\n",
      "EdStats_CSV.zip     100%[===================>]  37.14M  4.76MB/s    in 7.4s    \n",
      "\n",
      "2024-09-26 15:55:06 (5.03 MB/s) - ‘EdStats_CSV.zip’ saved [38943514/38943514]\n",
      "\n",
      "Archive:  EdStats_CSV.zip\n",
      "--2024-09-26 15:55:06--  https://raw.githubusercontent.com/lukes/ISO-3166-Countries-with-Regional-Codes/refs/heads/master/all/all.csv\n",
      "Resolving raw.githubusercontent.com (raw.githubusercontent.com)... 185.199.110.133, 185.199.108.133, 185.199.111.133, ...\n",
      "Connecting to raw.githubusercontent.com (raw.githubusercontent.com)|185.199.110.133|:443... connected.\n",
      "HTTP request sent, awaiting response... 200 OK\n",
      "Length: 20730 (20K) [text/plain]\n",
      "Saving to: ‘./data/countries.csv’\n",
      "\n",
      "./data/countries.cs 100%[===================>]  20.24K  --.-KB/s    in 0s      \n",
      "\n",
      "2024-09-26 15:55:07 (41.3 MB/s) - ‘./data/countries.csv’ saved [20730/20730]\n",
      "\n"
     ]
    }
   ],
   "source": [
    "# download and update the data in the project\n",
    "!./setup.sh"
   ]
  },
  {
   "cell_type": "code",
   "execution_count": 4,
   "metadata": {},
   "outputs": [
    {
     "name": "stdout",
     "output_type": "stream",
     "text": [
      "Requirement already satisfied: asttokens==2.4.1 in ./.venv/lib/python3.12/site-packages (from -r requirements.txt (line 1)) (2.4.1)\n",
      "Requirement already satisfied: comm==0.2.2 in ./.venv/lib/python3.12/site-packages (from -r requirements.txt (line 2)) (0.2.2)\n",
      "Requirement already satisfied: contourpy==1.3.0 in ./.venv/lib/python3.12/site-packages (from -r requirements.txt (line 3)) (1.3.0)\n",
      "Requirement already satisfied: cycler==0.12.1 in ./.venv/lib/python3.12/site-packages (from -r requirements.txt (line 4)) (0.12.1)\n",
      "Requirement already satisfied: debugpy==1.8.6 in ./.venv/lib/python3.12/site-packages (from -r requirements.txt (line 5)) (1.8.6)\n",
      "Requirement already satisfied: decorator==5.1.1 in ./.venv/lib/python3.12/site-packages (from -r requirements.txt (line 6)) (5.1.1)\n",
      "Requirement already satisfied: executing==2.1.0 in ./.venv/lib/python3.12/site-packages (from -r requirements.txt (line 7)) (2.1.0)\n",
      "Requirement already satisfied: fonttools==4.54.1 in ./.venv/lib/python3.12/site-packages (from -r requirements.txt (line 8)) (4.54.1)\n",
      "Requirement already satisfied: ipykernel==6.29.5 in ./.venv/lib/python3.12/site-packages (from -r requirements.txt (line 9)) (6.29.5)\n",
      "Requirement already satisfied: ipython==8.27.0 in ./.venv/lib/python3.12/site-packages (from -r requirements.txt (line 10)) (8.27.0)\n",
      "Requirement already satisfied: jedi==0.19.1 in ./.venv/lib/python3.12/site-packages (from -r requirements.txt (line 11)) (0.19.1)\n",
      "Requirement already satisfied: joblib==1.4.2 in ./.venv/lib/python3.12/site-packages (from -r requirements.txt (line 12)) (1.4.2)\n",
      "Requirement already satisfied: jupyter_client==8.6.3 in ./.venv/lib/python3.12/site-packages (from -r requirements.txt (line 13)) (8.6.3)\n",
      "Requirement already satisfied: jupyter_core==5.7.2 in ./.venv/lib/python3.12/site-packages (from -r requirements.txt (line 14)) (5.7.2)\n",
      "Requirement already satisfied: kiwisolver==1.4.7 in ./.venv/lib/python3.12/site-packages (from -r requirements.txt (line 15)) (1.4.7)\n",
      "Requirement already satisfied: matplotlib==3.9.2 in ./.venv/lib/python3.12/site-packages (from -r requirements.txt (line 16)) (3.9.2)\n",
      "Requirement already satisfied: matplotlib-inline==0.1.7 in ./.venv/lib/python3.12/site-packages (from -r requirements.txt (line 17)) (0.1.7)\n",
      "Requirement already satisfied: nest-asyncio==1.6.0 in ./.venv/lib/python3.12/site-packages (from -r requirements.txt (line 18)) (1.6.0)\n",
      "Requirement already satisfied: numpy==2.1.1 in ./.venv/lib/python3.12/site-packages (from -r requirements.txt (line 19)) (2.1.1)\n",
      "Requirement already satisfied: packaging==24.1 in ./.venv/lib/python3.12/site-packages (from -r requirements.txt (line 20)) (24.1)\n",
      "Requirement already satisfied: pandas==2.2.3 in ./.venv/lib/python3.12/site-packages (from -r requirements.txt (line 21)) (2.2.3)\n",
      "Requirement already satisfied: parso==0.8.4 in ./.venv/lib/python3.12/site-packages (from -r requirements.txt (line 22)) (0.8.4)\n",
      "Requirement already satisfied: patsy==0.5.6 in ./.venv/lib/python3.12/site-packages (from -r requirements.txt (line 23)) (0.5.6)\n",
      "Requirement already satisfied: pexpect==4.9.0 in ./.venv/lib/python3.12/site-packages (from -r requirements.txt (line 24)) (4.9.0)\n",
      "Requirement already satisfied: pillow==10.4.0 in ./.venv/lib/python3.12/site-packages (from -r requirements.txt (line 25)) (10.4.0)\n",
      "Requirement already satisfied: platformdirs==4.3.6 in ./.venv/lib/python3.12/site-packages (from -r requirements.txt (line 26)) (4.3.6)\n",
      "Requirement already satisfied: prompt_toolkit==3.0.48 in ./.venv/lib/python3.12/site-packages (from -r requirements.txt (line 27)) (3.0.48)\n",
      "Requirement already satisfied: psutil==6.0.0 in ./.venv/lib/python3.12/site-packages (from -r requirements.txt (line 28)) (6.0.0)\n",
      "Requirement already satisfied: ptyprocess==0.7.0 in ./.venv/lib/python3.12/site-packages (from -r requirements.txt (line 29)) (0.7.0)\n",
      "Requirement already satisfied: pure_eval==0.2.3 in ./.venv/lib/python3.12/site-packages (from -r requirements.txt (line 30)) (0.2.3)\n",
      "Requirement already satisfied: Pygments==2.18.0 in ./.venv/lib/python3.12/site-packages (from -r requirements.txt (line 31)) (2.18.0)\n",
      "Requirement already satisfied: pyparsing==3.1.4 in ./.venv/lib/python3.12/site-packages (from -r requirements.txt (line 32)) (3.1.4)\n",
      "Requirement already satisfied: python-dateutil==2.9.0.post0 in ./.venv/lib/python3.12/site-packages (from -r requirements.txt (line 33)) (2.9.0.post0)\n",
      "Requirement already satisfied: pytz==2024.2 in ./.venv/lib/python3.12/site-packages (from -r requirements.txt (line 34)) (2024.2)\n",
      "Requirement already satisfied: pyzmq==26.2.0 in ./.venv/lib/python3.12/site-packages (from -r requirements.txt (line 35)) (26.2.0)\n",
      "Requirement already satisfied: scikit-learn==1.5.2 in ./.venv/lib/python3.12/site-packages (from -r requirements.txt (line 36)) (1.5.2)\n",
      "Requirement already satisfied: scipy==1.14.1 in ./.venv/lib/python3.12/site-packages (from -r requirements.txt (line 37)) (1.14.1)\n",
      "Requirement already satisfied: seaborn==0.13.2 in ./.venv/lib/python3.12/site-packages (from -r requirements.txt (line 38)) (0.13.2)\n",
      "Requirement already satisfied: six==1.16.0 in ./.venv/lib/python3.12/site-packages (from -r requirements.txt (line 39)) (1.16.0)\n",
      "Requirement already satisfied: stack-data==0.6.3 in ./.venv/lib/python3.12/site-packages (from -r requirements.txt (line 40)) (0.6.3)\n",
      "Requirement already satisfied: statsmodels==0.14.3 in ./.venv/lib/python3.12/site-packages (from -r requirements.txt (line 41)) (0.14.3)\n",
      "Requirement already satisfied: threadpoolctl==3.5.0 in ./.venv/lib/python3.12/site-packages (from -r requirements.txt (line 42)) (3.5.0)\n",
      "Requirement already satisfied: tornado==6.4.1 in ./.venv/lib/python3.12/site-packages (from -r requirements.txt (line 43)) (6.4.1)\n",
      "Requirement already satisfied: traitlets==5.14.3 in ./.venv/lib/python3.12/site-packages (from -r requirements.txt (line 44)) (5.14.3)\n",
      "Requirement already satisfied: tzdata==2024.2 in ./.venv/lib/python3.12/site-packages (from -r requirements.txt (line 45)) (2024.2)\n",
      "Requirement already satisfied: wcwidth==0.2.13 in ./.venv/lib/python3.12/site-packages (from -r requirements.txt (line 46)) (0.2.13)\n"
     ]
    }
   ],
   "source": [
    "!pip install -r requirements.txt"
   ]
  },
  {
   "cell_type": "code",
   "execution_count": 5,
   "metadata": {},
   "outputs": [],
   "source": [
    "import pandas as pd\n",
    "import scipy.stats as stats\n",
    "from scipy.stats import shapiro\n",
    "from scipy.stats import kruskal\n",
    "import matplotlib.pyplot as plt\n",
    "import seaborn as sns\n",
    "\n",
    "import statsmodels.api as sm\n",
    "from statsmodels.formula.api import ols\n",
    "import statsmodels.stats.api as sms"
   ]
  },
  {
   "cell_type": "code",
   "execution_count": 14,
   "metadata": {},
   "outputs": [],
   "source": [
    "# load and clean the dataset\n",
    "country_codes = pd.read_csv(\"./data/countries.csv\")\n",
    "df = pd.read_csv('./data/EdStatsData.csv')"
   ]
  },
  {
   "cell_type": "markdown",
   "metadata": {},
   "source": [
    "Setup the python environment"
   ]
  },
  {
   "cell_type": "markdown",
   "metadata": {},
   "source": []
  },
  {
   "cell_type": "code",
   "execution_count": 15,
   "metadata": {},
   "outputs": [
    {
     "data": {
      "text/html": [
       "<div>\n",
       "<style scoped>\n",
       "    .dataframe tbody tr th:only-of-type {\n",
       "        vertical-align: middle;\n",
       "    }\n",
       "\n",
       "    .dataframe tbody tr th {\n",
       "        vertical-align: top;\n",
       "    }\n",
       "\n",
       "    .dataframe thead th {\n",
       "        text-align: right;\n",
       "    }\n",
       "</style>\n",
       "<table border=\"1\" class=\"dataframe\">\n",
       "  <thead>\n",
       "    <tr style=\"text-align: right;\">\n",
       "      <th></th>\n",
       "      <th>Country Name</th>\n",
       "      <th>Country Code</th>\n",
       "      <th>Indicator Name</th>\n",
       "      <th>Indicator Code</th>\n",
       "      <th>1970</th>\n",
       "      <th>1971</th>\n",
       "      <th>1972</th>\n",
       "      <th>1973</th>\n",
       "      <th>1974</th>\n",
       "      <th>1975</th>\n",
       "      <th>...</th>\n",
       "      <th>2060</th>\n",
       "      <th>2065</th>\n",
       "      <th>2070</th>\n",
       "      <th>2075</th>\n",
       "      <th>2080</th>\n",
       "      <th>2085</th>\n",
       "      <th>2090</th>\n",
       "      <th>2095</th>\n",
       "      <th>2100</th>\n",
       "      <th>Unnamed: 69</th>\n",
       "    </tr>\n",
       "  </thead>\n",
       "  <tbody>\n",
       "    <tr>\n",
       "      <th>91625</th>\n",
       "      <td>Afghanistan</td>\n",
       "      <td>AFG</td>\n",
       "      <td>Adjusted net enrolment rate, lower secondary, ...</td>\n",
       "      <td>UIS.NERA.2</td>\n",
       "      <td>NaN</td>\n",
       "      <td>NaN</td>\n",
       "      <td>NaN</td>\n",
       "      <td>NaN</td>\n",
       "      <td>7.05911</td>\n",
       "      <td>NaN</td>\n",
       "      <td>...</td>\n",
       "      <td>NaN</td>\n",
       "      <td>NaN</td>\n",
       "      <td>NaN</td>\n",
       "      <td>NaN</td>\n",
       "      <td>NaN</td>\n",
       "      <td>NaN</td>\n",
       "      <td>NaN</td>\n",
       "      <td>NaN</td>\n",
       "      <td>NaN</td>\n",
       "      <td>NaN</td>\n",
       "    </tr>\n",
       "    <tr>\n",
       "      <th>91626</th>\n",
       "      <td>Afghanistan</td>\n",
       "      <td>AFG</td>\n",
       "      <td>Adjusted net enrolment rate, lower secondary, ...</td>\n",
       "      <td>UIS.NERA.2.F</td>\n",
       "      <td>NaN</td>\n",
       "      <td>NaN</td>\n",
       "      <td>NaN</td>\n",
       "      <td>NaN</td>\n",
       "      <td>2.53138</td>\n",
       "      <td>NaN</td>\n",
       "      <td>...</td>\n",
       "      <td>NaN</td>\n",
       "      <td>NaN</td>\n",
       "      <td>NaN</td>\n",
       "      <td>NaN</td>\n",
       "      <td>NaN</td>\n",
       "      <td>NaN</td>\n",
       "      <td>NaN</td>\n",
       "      <td>NaN</td>\n",
       "      <td>NaN</td>\n",
       "      <td>NaN</td>\n",
       "    </tr>\n",
       "    <tr>\n",
       "      <th>91627</th>\n",
       "      <td>Afghanistan</td>\n",
       "      <td>AFG</td>\n",
       "      <td>Adjusted net enrolment rate, lower secondary, ...</td>\n",
       "      <td>UIS.NERA.2.GPI</td>\n",
       "      <td>NaN</td>\n",
       "      <td>NaN</td>\n",
       "      <td>NaN</td>\n",
       "      <td>NaN</td>\n",
       "      <td>0.22154</td>\n",
       "      <td>NaN</td>\n",
       "      <td>...</td>\n",
       "      <td>NaN</td>\n",
       "      <td>NaN</td>\n",
       "      <td>NaN</td>\n",
       "      <td>NaN</td>\n",
       "      <td>NaN</td>\n",
       "      <td>NaN</td>\n",
       "      <td>NaN</td>\n",
       "      <td>NaN</td>\n",
       "      <td>NaN</td>\n",
       "      <td>NaN</td>\n",
       "    </tr>\n",
       "    <tr>\n",
       "      <th>91628</th>\n",
       "      <td>Afghanistan</td>\n",
       "      <td>AFG</td>\n",
       "      <td>Adjusted net enrolment rate, lower secondary, ...</td>\n",
       "      <td>UIS.NERA.2.M</td>\n",
       "      <td>NaN</td>\n",
       "      <td>NaN</td>\n",
       "      <td>NaN</td>\n",
       "      <td>NaN</td>\n",
       "      <td>11.42652</td>\n",
       "      <td>NaN</td>\n",
       "      <td>...</td>\n",
       "      <td>NaN</td>\n",
       "      <td>NaN</td>\n",
       "      <td>NaN</td>\n",
       "      <td>NaN</td>\n",
       "      <td>NaN</td>\n",
       "      <td>NaN</td>\n",
       "      <td>NaN</td>\n",
       "      <td>NaN</td>\n",
       "      <td>NaN</td>\n",
       "      <td>NaN</td>\n",
       "    </tr>\n",
       "    <tr>\n",
       "      <th>91629</th>\n",
       "      <td>Afghanistan</td>\n",
       "      <td>AFG</td>\n",
       "      <td>Adjusted net enrolment rate, primary, both sex...</td>\n",
       "      <td>SE.PRM.TENR</td>\n",
       "      <td>NaN</td>\n",
       "      <td>NaN</td>\n",
       "      <td>NaN</td>\n",
       "      <td>NaN</td>\n",
       "      <td>NaN</td>\n",
       "      <td>NaN</td>\n",
       "      <td>...</td>\n",
       "      <td>NaN</td>\n",
       "      <td>NaN</td>\n",
       "      <td>NaN</td>\n",
       "      <td>NaN</td>\n",
       "      <td>NaN</td>\n",
       "      <td>NaN</td>\n",
       "      <td>NaN</td>\n",
       "      <td>NaN</td>\n",
       "      <td>NaN</td>\n",
       "      <td>NaN</td>\n",
       "    </tr>\n",
       "  </tbody>\n",
       "</table>\n",
       "<p>5 rows × 70 columns</p>\n",
       "</div>"
      ],
      "text/plain": [
       "      Country Name Country Code  \\\n",
       "91625  Afghanistan          AFG   \n",
       "91626  Afghanistan          AFG   \n",
       "91627  Afghanistan          AFG   \n",
       "91628  Afghanistan          AFG   \n",
       "91629  Afghanistan          AFG   \n",
       "\n",
       "                                          Indicator Name  Indicator Code  \\\n",
       "91625  Adjusted net enrolment rate, lower secondary, ...      UIS.NERA.2   \n",
       "91626  Adjusted net enrolment rate, lower secondary, ...    UIS.NERA.2.F   \n",
       "91627  Adjusted net enrolment rate, lower secondary, ...  UIS.NERA.2.GPI   \n",
       "91628  Adjusted net enrolment rate, lower secondary, ...    UIS.NERA.2.M   \n",
       "91629  Adjusted net enrolment rate, primary, both sex...     SE.PRM.TENR   \n",
       "\n",
       "       1970  1971  1972  1973      1974  1975  ...  2060  2065  2070  2075  \\\n",
       "91625   NaN   NaN   NaN   NaN   7.05911   NaN  ...   NaN   NaN   NaN   NaN   \n",
       "91626   NaN   NaN   NaN   NaN   2.53138   NaN  ...   NaN   NaN   NaN   NaN   \n",
       "91627   NaN   NaN   NaN   NaN   0.22154   NaN  ...   NaN   NaN   NaN   NaN   \n",
       "91628   NaN   NaN   NaN   NaN  11.42652   NaN  ...   NaN   NaN   NaN   NaN   \n",
       "91629   NaN   NaN   NaN   NaN       NaN   NaN  ...   NaN   NaN   NaN   NaN   \n",
       "\n",
       "       2080  2085  2090  2095  2100  Unnamed: 69  \n",
       "91625   NaN   NaN   NaN   NaN   NaN          NaN  \n",
       "91626   NaN   NaN   NaN   NaN   NaN          NaN  \n",
       "91627   NaN   NaN   NaN   NaN   NaN          NaN  \n",
       "91628   NaN   NaN   NaN   NaN   NaN          NaN  \n",
       "91629   NaN   NaN   NaN   NaN   NaN          NaN  \n",
       "\n",
       "[5 rows x 70 columns]"
      ]
     },
     "execution_count": 15,
     "metadata": {},
     "output_type": "execute_result"
    }
   ],
   "source": [
    "hyp1_df = df[df[\"Country Code\"].isin(country_codes[\"alpha-3\"])]\n",
    "hyp1_df.head()"
   ]
  },
  {
   "cell_type": "code",
   "execution_count": 16,
   "metadata": {},
   "outputs": [],
   "source": [
    "# define the Indicators from the dataset for the cleaning process of the data\n",
    "\n",
    "# define the inidcators for the gpi\n",
    "gov_exp_indicators = [\n",
    "    \"Expenditure on education as % of total government expenditure (%)\"\n",
    "]\n",
    "\n",
    "# defin the inidicators for the drop out rate\n",
    "wp_indicators_poorest = 'UIS: Total net attendance rate, lower secondary, poorest quintile, both sexes (%)'\n",
    "qp_indicators_richest = 'UIS: Total net attendance rate, lower secondary, richest quintile, both sexes (%)'\n",
    "\n",
    "    \n"
   ]
  },
  {
   "cell_type": "code",
   "execution_count": 17,
   "metadata": {},
   "outputs": [
    {
     "data": {
      "text/html": [
       "<div>\n",
       "<style scoped>\n",
       "    .dataframe tbody tr th:only-of-type {\n",
       "        vertical-align: middle;\n",
       "    }\n",
       "\n",
       "    .dataframe tbody tr th {\n",
       "        vertical-align: top;\n",
       "    }\n",
       "\n",
       "    .dataframe thead th {\n",
       "        text-align: right;\n",
       "    }\n",
       "</style>\n",
       "<table border=\"1\" class=\"dataframe\">\n",
       "  <thead>\n",
       "    <tr style=\"text-align: right;\">\n",
       "      <th></th>\n",
       "      <th>Country Name</th>\n",
       "      <th>Country Code</th>\n",
       "      <th>Indicator Name</th>\n",
       "      <th>Indicator Code</th>\n",
       "      <th>Year</th>\n",
       "      <th>Value</th>\n",
       "    </tr>\n",
       "  </thead>\n",
       "  <tbody>\n",
       "    <tr>\n",
       "      <th>0</th>\n",
       "      <td>Afghanistan</td>\n",
       "      <td>AFG</td>\n",
       "      <td>Adjusted net enrolment rate, lower secondary, ...</td>\n",
       "      <td>UIS.NERA.2</td>\n",
       "      <td>1970</td>\n",
       "      <td>NaN</td>\n",
       "    </tr>\n",
       "    <tr>\n",
       "      <th>1</th>\n",
       "      <td>Afghanistan</td>\n",
       "      <td>AFG</td>\n",
       "      <td>Adjusted net enrolment rate, lower secondary, ...</td>\n",
       "      <td>UIS.NERA.2.F</td>\n",
       "      <td>1970</td>\n",
       "      <td>NaN</td>\n",
       "    </tr>\n",
       "    <tr>\n",
       "      <th>2</th>\n",
       "      <td>Afghanistan</td>\n",
       "      <td>AFG</td>\n",
       "      <td>Adjusted net enrolment rate, lower secondary, ...</td>\n",
       "      <td>UIS.NERA.2.GPI</td>\n",
       "      <td>1970</td>\n",
       "      <td>NaN</td>\n",
       "    </tr>\n",
       "    <tr>\n",
       "      <th>3</th>\n",
       "      <td>Afghanistan</td>\n",
       "      <td>AFG</td>\n",
       "      <td>Adjusted net enrolment rate, lower secondary, ...</td>\n",
       "      <td>UIS.NERA.2.M</td>\n",
       "      <td>1970</td>\n",
       "      <td>NaN</td>\n",
       "    </tr>\n",
       "    <tr>\n",
       "      <th>4</th>\n",
       "      <td>Afghanistan</td>\n",
       "      <td>AFG</td>\n",
       "      <td>Adjusted net enrolment rate, primary, both sex...</td>\n",
       "      <td>SE.PRM.TENR</td>\n",
       "      <td>1970</td>\n",
       "      <td>NaN</td>\n",
       "    </tr>\n",
       "  </tbody>\n",
       "</table>\n",
       "</div>"
      ],
      "text/plain": [
       "  Country Name Country Code  \\\n",
       "0  Afghanistan          AFG   \n",
       "1  Afghanistan          AFG   \n",
       "2  Afghanistan          AFG   \n",
       "3  Afghanistan          AFG   \n",
       "4  Afghanistan          AFG   \n",
       "\n",
       "                                      Indicator Name  Indicator Code  Year  \\\n",
       "0  Adjusted net enrolment rate, lower secondary, ...      UIS.NERA.2  1970   \n",
       "1  Adjusted net enrolment rate, lower secondary, ...    UIS.NERA.2.F  1970   \n",
       "2  Adjusted net enrolment rate, lower secondary, ...  UIS.NERA.2.GPI  1970   \n",
       "3  Adjusted net enrolment rate, lower secondary, ...    UIS.NERA.2.M  1970   \n",
       "4  Adjusted net enrolment rate, primary, both sex...     SE.PRM.TENR  1970   \n",
       "\n",
       "   Value  \n",
       "0    NaN  \n",
       "1    NaN  \n",
       "2    NaN  \n",
       "3    NaN  \n",
       "4    NaN  "
      ]
     },
     "execution_count": 17,
     "metadata": {},
     "output_type": "execute_result"
    }
   ],
   "source": [
    "# Re-shape the data to prevent the Years from being presented as individual columns\n",
    "df_melted = hyp1_df.melt(id_vars=[\"Country Name\", \"Country Code\", \"Indicator Name\", \"Indicator Code\"],\n",
    "                    var_name=\"Year\", value_name=\"Value\")\n",
    "\n",
    "df_melted.head()"
   ]
  },
  {
   "cell_type": "code",
   "execution_count": 20,
   "metadata": {},
   "outputs": [
    {
     "name": "stderr",
     "output_type": "stream",
     "text": [
      "/tmp/ipykernel_158826/391475126.py:15: SettingWithCopyWarning: \n",
      "A value is trying to be set on a copy of a slice from a DataFrame.\n",
      "Try using .loc[row_indexer,col_indexer] = value instead\n",
      "\n",
      "See the caveats in the documentation: https://pandas.pydata.org/pandas-docs/stable/user_guide/indexing.html#returning-a-view-versus-a-copy\n",
      "  gpi_df_clean['Value'] = pd.to_numeric(gpi_df_clean['Value'], errors='coerce')\n",
      "/tmp/ipykernel_158826/391475126.py:16: SettingWithCopyWarning: \n",
      "A value is trying to be set on a copy of a slice from a DataFrame.\n",
      "Try using .loc[row_indexer,col_indexer] = value instead\n",
      "\n",
      "See the caveats in the documentation: https://pandas.pydata.org/pandas-docs/stable/user_guide/indexing.html#returning-a-view-versus-a-copy\n",
      "  richest_clean['Value'] = pd.to_numeric(richest_clean['Value'], errors='coerce')\n",
      "/tmp/ipykernel_158826/391475126.py:17: SettingWithCopyWarning: \n",
      "A value is trying to be set on a copy of a slice from a DataFrame.\n",
      "Try using .loc[row_indexer,col_indexer] = value instead\n",
      "\n",
      "See the caveats in the documentation: https://pandas.pydata.org/pandas-docs/stable/user_guide/indexing.html#returning-a-view-versus-a-copy\n",
      "  poorest_clean['Value'] = pd.to_numeric(richest_clean['Value'], errors='coerce')\n",
      "/tmp/ipykernel_158826/391475126.py:18: SettingWithCopyWarning: \n",
      "A value is trying to be set on a copy of a slice from a DataFrame.\n",
      "Try using .loc[row_indexer,col_indexer] = value instead\n",
      "\n",
      "See the caveats in the documentation: https://pandas.pydata.org/pandas-docs/stable/user_guide/indexing.html#returning-a-view-versus-a-copy\n",
      "  gpi_df_clean['WPI'] = poorest_clean['Value']/richest_clean['Value']\n"
     ]
    },
    {
     "data": {
      "text/html": [
       "<div>\n",
       "<style scoped>\n",
       "    .dataframe tbody tr th:only-of-type {\n",
       "        vertical-align: middle;\n",
       "    }\n",
       "\n",
       "    .dataframe tbody tr th {\n",
       "        vertical-align: top;\n",
       "    }\n",
       "\n",
       "    .dataframe thead th {\n",
       "        text-align: right;\n",
       "    }\n",
       "</style>\n",
       "<table border=\"1\" class=\"dataframe\">\n",
       "  <thead>\n",
       "    <tr style=\"text-align: right;\">\n",
       "      <th></th>\n",
       "      <th>Country Name</th>\n",
       "      <th>Country Code</th>\n",
       "      <th>Indicator Name</th>\n",
       "      <th>Indicator Code</th>\n",
       "      <th>Year</th>\n",
       "      <th>Value</th>\n",
       "      <th>WPI</th>\n",
       "    </tr>\n",
       "  </thead>\n",
       "  <tbody>\n",
       "    <tr>\n",
       "      <th>7935949</th>\n",
       "      <td>Bangladesh</td>\n",
       "      <td>BGD</td>\n",
       "      <td>Expenditure on education as % of total governm...</td>\n",
       "      <td>SE.XPD.TOTL.GB.ZS</td>\n",
       "      <td>1980</td>\n",
       "      <td>5.263600</td>\n",
       "      <td>NaN</td>\n",
       "    </tr>\n",
       "    <tr>\n",
       "      <th>8108204</th>\n",
       "      <td>Ethiopia</td>\n",
       "      <td>ETH</td>\n",
       "      <td>Expenditure on education as % of total governm...</td>\n",
       "      <td>SE.XPD.TOTL.GB.ZS</td>\n",
       "      <td>1980</td>\n",
       "      <td>12.355540</td>\n",
       "      <td>NaN</td>\n",
       "    </tr>\n",
       "    <tr>\n",
       "      <th>8144854</th>\n",
       "      <td>Ghana</td>\n",
       "      <td>GHA</td>\n",
       "      <td>Expenditure on education as % of total governm...</td>\n",
       "      <td>SE.XPD.TOTL.GB.ZS</td>\n",
       "      <td>1980</td>\n",
       "      <td>7.641880</td>\n",
       "      <td>NaN</td>\n",
       "    </tr>\n",
       "    <tr>\n",
       "      <th>8558999</th>\n",
       "      <td>Sweden</td>\n",
       "      <td>SWE</td>\n",
       "      <td>Expenditure on education as % of total governm...</td>\n",
       "      <td>SE.XPD.TOTL.GB.ZS</td>\n",
       "      <td>1980</td>\n",
       "      <td>9.862020</td>\n",
       "      <td>NaN</td>\n",
       "    </tr>\n",
       "    <tr>\n",
       "      <th>8723924</th>\n",
       "      <td>Bangladesh</td>\n",
       "      <td>BGD</td>\n",
       "      <td>Expenditure on education as % of total governm...</td>\n",
       "      <td>SE.XPD.TOTL.GB.ZS</td>\n",
       "      <td>1981</td>\n",
       "      <td>6.634030</td>\n",
       "      <td>NaN</td>\n",
       "    </tr>\n",
       "    <tr>\n",
       "      <th>...</th>\n",
       "      <td>...</td>\n",
       "      <td>...</td>\n",
       "      <td>...</td>\n",
       "      <td>...</td>\n",
       "      <td>...</td>\n",
       "      <td>...</td>\n",
       "      <td>...</td>\n",
       "    </tr>\n",
       "    <tr>\n",
       "      <th>36116134</th>\n",
       "      <td>St. Lucia</td>\n",
       "      <td>LCA</td>\n",
       "      <td>Expenditure on education as % of total governm...</td>\n",
       "      <td>SE.XPD.TOTL.GB.ZS</td>\n",
       "      <td>2015</td>\n",
       "      <td>16.527161</td>\n",
       "      <td>NaN</td>\n",
       "    </tr>\n",
       "    <tr>\n",
       "      <th>36149119</th>\n",
       "      <td>Tajikistan</td>\n",
       "      <td>TJK</td>\n",
       "      <td>Expenditure on education as % of total governm...</td>\n",
       "      <td>SE.XPD.TOTL.GB.ZS</td>\n",
       "      <td>2015</td>\n",
       "      <td>16.276409</td>\n",
       "      <td>NaN</td>\n",
       "    </tr>\n",
       "    <tr>\n",
       "      <th>36163779</th>\n",
       "      <td>Togo</td>\n",
       "      <td>TGO</td>\n",
       "      <td>Expenditure on education as % of total governm...</td>\n",
       "      <td>SE.XPD.TOTL.GB.ZS</td>\n",
       "      <td>2015</td>\n",
       "      <td>17.985470</td>\n",
       "      <td>NaN</td>\n",
       "    </tr>\n",
       "    <tr>\n",
       "      <th>36204094</th>\n",
       "      <td>United Kingdom</td>\n",
       "      <td>GBR</td>\n",
       "      <td>Expenditure on education as % of total governm...</td>\n",
       "      <td>SE.XPD.TOTL.GB.ZS</td>\n",
       "      <td>2015</td>\n",
       "      <td>13.880240</td>\n",
       "      <td>NaN</td>\n",
       "    </tr>\n",
       "    <tr>\n",
       "      <th>36218754</th>\n",
       "      <td>Vanuatu</td>\n",
       "      <td>VUT</td>\n",
       "      <td>Expenditure on education as % of total governm...</td>\n",
       "      <td>SE.XPD.TOTL.GB.ZS</td>\n",
       "      <td>2015</td>\n",
       "      <td>22.298460</td>\n",
       "      <td>NaN</td>\n",
       "    </tr>\n",
       "  </tbody>\n",
       "</table>\n",
       "<p>2425 rows × 7 columns</p>\n",
       "</div>"
      ],
      "text/plain": [
       "            Country Name Country Code  \\\n",
       "7935949       Bangladesh          BGD   \n",
       "8108204         Ethiopia          ETH   \n",
       "8144854            Ghana          GHA   \n",
       "8558999           Sweden          SWE   \n",
       "8723924       Bangladesh          BGD   \n",
       "...                  ...          ...   \n",
       "36116134       St. Lucia          LCA   \n",
       "36149119      Tajikistan          TJK   \n",
       "36163779            Togo          TGO   \n",
       "36204094  United Kingdom          GBR   \n",
       "36218754         Vanuatu          VUT   \n",
       "\n",
       "                                             Indicator Name  \\\n",
       "7935949   Expenditure on education as % of total governm...   \n",
       "8108204   Expenditure on education as % of total governm...   \n",
       "8144854   Expenditure on education as % of total governm...   \n",
       "8558999   Expenditure on education as % of total governm...   \n",
       "8723924   Expenditure on education as % of total governm...   \n",
       "...                                                     ...   \n",
       "36116134  Expenditure on education as % of total governm...   \n",
       "36149119  Expenditure on education as % of total governm...   \n",
       "36163779  Expenditure on education as % of total governm...   \n",
       "36204094  Expenditure on education as % of total governm...   \n",
       "36218754  Expenditure on education as % of total governm...   \n",
       "\n",
       "             Indicator Code  Year      Value  WPI  \n",
       "7935949   SE.XPD.TOTL.GB.ZS  1980   5.263600  NaN  \n",
       "8108204   SE.XPD.TOTL.GB.ZS  1980  12.355540  NaN  \n",
       "8144854   SE.XPD.TOTL.GB.ZS  1980   7.641880  NaN  \n",
       "8558999   SE.XPD.TOTL.GB.ZS  1980   9.862020  NaN  \n",
       "8723924   SE.XPD.TOTL.GB.ZS  1981   6.634030  NaN  \n",
       "...                     ...   ...        ...  ...  \n",
       "36116134  SE.XPD.TOTL.GB.ZS  2015  16.527161  NaN  \n",
       "36149119  SE.XPD.TOTL.GB.ZS  2015  16.276409  NaN  \n",
       "36163779  SE.XPD.TOTL.GB.ZS  2015  17.985470  NaN  \n",
       "36204094  SE.XPD.TOTL.GB.ZS  2015  13.880240  NaN  \n",
       "36218754  SE.XPD.TOTL.GB.ZS  2015  22.298460  NaN  \n",
       "\n",
       "[2425 rows x 7 columns]"
      ]
     },
     "execution_count": 20,
     "metadata": {},
     "output_type": "execute_result"
    }
   ],
   "source": [
    "\n",
    "\n",
    "# Convert the data to a numeric value to work with it\n",
    "# df_melted['Year'] = pd.to_numeric(df_melted['Year'], errors='coerce')\n",
    "\n",
    "# Get the list Gpi indicator values and drop out values\n",
    "gpi_df = df_melted[df_melted['Indicator Name'].isin(gov_exp_indicators)]\n",
    "WPI_df = df_melted[df_melted['Indicator Name'] == wp_indicators_poorest]\n",
    "WPI_rich_df = df_melted[df_melted['Indicator Name'] == qp_indicators_richest]\n",
    "\n",
    "# Drop the null values to clean the data\n",
    "gpi_df_clean = gpi_df.dropna(subset=['Value'])\n",
    "poorest_clean = WPI_df.dropna(subset=['Value'])\n",
    "richest_clean = WPI_df.dropna(subset=['Value'])\n",
    "\n",
    "# convert the values to numeric to work with them\n",
    "gpi_df_clean['Value'] = pd.to_numeric(gpi_df_clean['Value'], errors='coerce')\n",
    "richest_clean['Value'] = pd.to_numeric(richest_clean['Value'], errors='coerce')\n",
    "poorest_clean['Value'] = pd.to_numeric(richest_clean['Value'], errors='coerce')\n",
    "gpi_df_clean['WPI'] = poorest_clean['Value']/richest_clean['Value']\n",
    "\n",
    "gpi_df_clean"
   ]
  },
  {
   "cell_type": "code",
   "execution_count": 55,
   "metadata": {},
   "outputs": [],
   "source": [
    "# Prepare the first indicator\n",
    "\n",
    "# The GPI for primary, secondary and upper secondary schools\n",
    "gpi_values = hyp1_df['Value_GPI']\n",
    "drop_out_values = hyp1_df[\"Value_Dropout\"]"
   ]
  },
  {
   "cell_type": "code",
   "execution_count": 17,
   "metadata": {},
   "outputs": [
    {
     "name": "stdout",
     "output_type": "stream",
     "text": [
      "f-ANOVA Statistic: 2.2426012958722157\n",
      "P-value: 0.1343038193795568\n"
     ]
    }
   ],
   "source": [
    "anova_result = stats.f_oneway(\n",
    "    hyp1_df[hyp1_df[\"Value_GPI\"] != \"equal\"][\"Value_Dropout\"],\n",
    "    hyp1_df[hyp1_df['Value_GPI'] == \"equal\"][\"Value_Dropout\"],\n",
    ")\n",
    "\n",
    "print(f\"f-ANOVA Statistic: {anova_result.statistic}\")\n",
    "print(f\"P-value: {anova_result.pvalue}\")"
   ]
  },
  {
   "cell_type": "code",
   "execution_count": 56,
   "metadata": {},
   "outputs": [
    {
     "name": "stdout",
     "output_type": "stream",
     "text": [
      "Pearsons correlation coefficient: -0.20755224109799786\n",
      "P-value: 8.300701558340677e-64\n"
     ]
    }
   ],
   "source": [
    "# Test for a correlation\n",
    "\n",
    "correlation, p_value = stats.pearsonr(gpi_values, drop_out_values)\n",
    "\n",
    "print(f\"Pearsons correlation coefficient: {correlation}\")\n",
    "print(f\"P-value: {p_value}\")"
   ]
  },
  {
   "cell_type": "markdown",
   "metadata": {},
   "source": [
    "    "
   ]
  },
  {
   "cell_type": "code",
   "execution_count": 57,
   "metadata": {},
   "outputs": [
    {
     "name": "stdout",
     "output_type": "stream",
     "text": [
      "There is a statistically significant correlation between GPI and Drop-out rate (Reject H0)\n"
     ]
    }
   ],
   "source": [
    "if p_value < 0.05:\n",
    "    print(\"There is a statistically significant correlation between GPI and Drop-out rate (Reject H0)\")\n",
    "else:\n",
    "    print(\"There is no statistically significant correlation between GPI and Drop-out rate (Faile to reject H0)\")"
   ]
  },
  {
   "cell_type": "code",
   "execution_count": 16,
   "metadata": {},
   "outputs": [
    {
     "ename": "NameError",
     "evalue": "name 'gpi_values' is not defined",
     "output_type": "error",
     "traceback": [
      "\u001b[0;31m---------------------------------------------------------------------------\u001b[0m",
      "\u001b[0;31mNameError\u001b[0m                                 Traceback (most recent call last)",
      "Cell \u001b[0;32mIn[16], line 2\u001b[0m\n\u001b[1;32m      1\u001b[0m plt\u001b[38;5;241m.\u001b[39mfigure(figsize\u001b[38;5;241m=\u001b[39m(\u001b[38;5;241m10\u001b[39m, \u001b[38;5;241m6\u001b[39m))\n\u001b[0;32m----> 2\u001b[0m sns\u001b[38;5;241m.\u001b[39mscatterplot(x\u001b[38;5;241m=\u001b[39m\u001b[43mgpi_values\u001b[49m, y\u001b[38;5;241m=\u001b[39mdrop_out_values)\n\u001b[1;32m      3\u001b[0m plt\u001b[38;5;241m.\u001b[39mtitle(\u001b[38;5;124m'\u001b[39m\u001b[38;5;124mGender Parity Index (GPI) vs Drop-out Rates\u001b[39m\u001b[38;5;124m'\u001b[39m)\n\u001b[1;32m      4\u001b[0m plt\u001b[38;5;241m.\u001b[39mxlabel(\u001b[38;5;124m'\u001b[39m\u001b[38;5;124mGender Parity Index (GPI)\u001b[39m\u001b[38;5;124m'\u001b[39m)\n",
      "\u001b[0;31mNameError\u001b[0m: name 'gpi_values' is not defined"
     ]
    },
    {
     "data": {
      "text/plain": [
       "<Figure size 1000x600 with 0 Axes>"
      ]
     },
     "metadata": {},
     "output_type": "display_data"
    }
   ],
   "source": [
    "plt.figure(figsize=(10, 6))\n",
    "sns.scatterplot(x=gpi_values, y=drop_out_values)\n",
    "plt.title('Gender Parity Index (GPI) vs Drop-out Rates')\n",
    "plt.xlabel('Gender Parity Index (GPI)')\n",
    "plt.ylabel('Drop-out Rates')\n",
    "plt.show()"
   ]
  },
  {
   "cell_type": "markdown",
   "metadata": {},
   "source": [
    "### Interpretation of results:\n",
    "\n",
    "Pearson correlation coefficient: -0.25\n",
    "\n",
    "This is a weak negative correlation between **gender parity (GPI)** and **Drop out rates**. This suggests that as GPI increases (.i.e. gender parity improves), the drop out rate decrease slightly but the effect is not very strong\n",
    "\n",
    "P-Value: 1.7583200777245715e-114:\n",
    "\n",
    "The p-value is extremely small, much smaller than the usual threshold of 0.05. This means the correlation is statistically significant. Even though the correlation is weak, the p-value indicates that the result is not due to random chance\n",
    "\n",
    "### Conclusion:\n",
    "\n",
    "We can confidently reject the null hypothesis (H0), meaning there is indeed a relationship between gender parity and drop out rates \n"
   ]
  },
  {
   "cell_type": "markdown",
   "metadata": {},
   "source": [
    "## Data analysis"
   ]
  },
  {
   "cell_type": "code",
   "execution_count": 59,
   "metadata": {},
   "outputs": [
    {
     "name": "stdout",
     "output_type": "stream",
     "text": [
      "Descriptive Statistics for GPI\n",
      "count    6461.000000\n",
      "mean        0.976505\n",
      "std         0.182833\n",
      "min         0.190660\n",
      "25%         0.962490\n",
      "50%         1.001210\n",
      "75%         1.025080\n",
      "max         2.494290\n",
      "Name: Value_GPI, dtype: float64\n",
      "\n",
      "Descriptive Statistics for Drop-out Rates\n",
      "count    6461.000000\n",
      "mean       19.195747\n",
      "std        17.929322\n",
      "min         0.007320\n",
      "25%         4.069590\n",
      "50%        13.937510\n",
      "75%        30.442551\n",
      "max        92.459167\n",
      "Name: Value_Dropout, dtype: float64\n"
     ]
    }
   ],
   "source": [
    "print(\"Descriptive Statistics for GPI\")\n",
    "print(hyp1_df['Value_GPI'].describe())\n",
    "\n",
    "print(\"\\nDescriptive Statistics for Drop-out Rates\")\n",
    "print(hyp1_df['Value_Dropout'].describe())"
   ]
  },
  {
   "cell_type": "code",
   "execution_count": 60,
   "metadata": {},
   "outputs": [],
   "source": [
    "median_dropout = hyp1_df['Value_Dropout'].median()\n",
    "high_dropout = hyp1_df[hyp1_df['Value_Dropout'] > median_dropout]\n",
    "low_dropout = hyp1_df[hyp1_df['Value_Dropout'] <= median_dropout]"
   ]
  },
  {
   "cell_type": "code",
   "execution_count": 61,
   "metadata": {},
   "outputs": [
    {
     "name": "stdout",
     "output_type": "stream",
     "text": [
      "T-test: t-statistic = -13.973484421264791, p-value = 9.757703722627095e-44\n"
     ]
    }
   ],
   "source": [
    "# run t-testing\n",
    "t_stat, p_value_ttest = stats.ttest_ind(high_dropout['Value_GPI'], low_dropout['Value_GPI'])\n",
    "print(f\"T-test: t-statistic = {t_stat}, p-value = {p_value_ttest}\")"
   ]
  },
  {
   "cell_type": "code",
   "execution_count": null,
   "metadata": {},
   "outputs": [],
   "source": [
    "# do violin plot of groups\n",
    "\n",
    "# test - for each group\n",
    "# for normally distributed - shapiro - wilk test\n",
    "# if normally - test variances -> levenes test\n",
    "#                               -> bartlett test\n",
    "\n",
    "\n",
    "# ALt for anova -> kruskal wallace test \n",
    "#               -> welsh anova "
   ]
  },
  {
   "cell_type": "code",
   "execution_count": 62,
   "metadata": {},
   "outputs": [
    {
     "name": "stdout",
     "output_type": "stream",
     "text": [
      "Shapiro-Wilk Test for GPI: Statistic = 0.760653422998363, p-value = 1.4212061742204283e-70\n",
      "Shapiro-Wilk Test for Drop-out Rates: Statistic = 0.8849735339081437, p-value = 1.996512272431664e-56\n",
      "GPI data is not normally distributed (Reject H0)\n",
      "Drop-out Rate data is not normally distributed (Reject H0)\n"
     ]
    },
    {
     "name": "stderr",
     "output_type": "stream",
     "text": [
      "/home/27728277/School/Datasci/27728277-rw771-Data_Science_Project_2/.venv/lib/python3.12/site-packages/scipy/stats/_axis_nan_policy.py:573: UserWarning: scipy.stats.shapiro: For N > 5000, computed p-value may not be accurate. Current N is 6461.\n",
      "  res = hypotest_fun_out(*samples, **kwds)\n"
     ]
    }
   ],
   "source": [
    "gpi_values = hyp1_df['Value_GPI'].dropna()  # Drop missing values\n",
    "dropout_values = hyp1_df['Value_Dropout'].dropna()  # Drop missing values\n",
    "\n",
    "shapiro_gpi_stat, shapiro_gpi_pvalue = shapiro(gpi_values)\n",
    "print(f\"Shapiro-Wilk Test for GPI: Statistic = {shapiro_gpi_stat}, p-value = {shapiro_gpi_pvalue}\")\n",
    "\n",
    "\n",
    "shapiro_dropout_stat, shapiro_dropout_pvalue = shapiro(dropout_values)\n",
    "print(f\"Shapiro-Wilk Test for Drop-out Rates: Statistic = {shapiro_dropout_stat}, p-value = {shapiro_dropout_pvalue}\")\n",
    "\n",
    "if shapiro_gpi_pvalue < 0.05:\n",
    "    print(\"GPI data is not normally distributed (Reject H0)\")\n",
    "else:\n",
    "    print(\"GPI data is normally distributed (Fail to reject H0)\")\n",
    "\n",
    "if shapiro_dropout_pvalue < 0.05:\n",
    "    print(\"Drop-out Rate data is not normally distributed (Reject H0)\")\n",
    "else:\n",
    "    print(\"Drop-out Rate data is normally distributed (Fail to reject H0)\")"
   ]
  },
  {
   "cell_type": "code",
   "execution_count": 64,
   "metadata": {},
   "outputs": [
    {
     "name": "stdout",
     "output_type": "stream",
     "text": [
      "Kruskal-Wallis Test for GPI: Statistic = 4161.903114806945, p-value = 0.0\n",
      "Kruskal-Wallis Test for Drop-out Rates: Statistic = 4495.364696542772, p-value = 0.0\n",
      "There is a significant difference in GPI across countries (Reject H0)\n",
      "There is a significant difference in Drop-out Rates across countries (Reject H0)\n"
     ]
    }
   ],
   "source": [
    "# ANOVA test\n",
    "\n",
    "country_groups_gpi = [group['Value_GPI'].dropna() for _, group in hyp1_df.groupby('Country Name')]\n",
    "country_groups_dropout = [group['Value_Dropout'].dropna() for _, group in hyp1_df.groupby('Country Name')]\n",
    "\n",
    "kruskal_gpi_stat, kruskal_gpi_pvalue = kruskal(*country_groups_gpi)\n",
    "print(f\"Kruskal-Wallis Test for GPI: Statistic = {kruskal_gpi_stat}, p-value = {kruskal_gpi_pvalue}\")\n",
    "\n",
    "kruskal_dropout_stat, kruskal_dropout_pvalue = kruskal(*country_groups_dropout)\n",
    "print(f\"Kruskal-Wallis Test for Drop-out Rates: Statistic = {kruskal_dropout_stat}, p-value = {kruskal_dropout_pvalue}\")\n",
    "\n",
    "if kruskal_gpi_pvalue < 0.05:\n",
    "    print(\"There is a significant difference in GPI across countries (Reject H0)\")\n",
    "else:\n",
    "    print(\"There is no significant difference in GPI across countries (Fail to reject H0)\")\n",
    "\n",
    "if kruskal_dropout_pvalue < 0.05:\n",
    "    print(\"There is a significant difference in Drop-out Rates across countries (Reject H0)\")\n",
    "else:\n",
    "    print(\"There is no significant difference in Drop-out Rates across countries (Fail to reject H0)\")\n"
   ]
  },
  {
   "cell_type": "markdown",
   "metadata": {},
   "source": [
    "#### Interpretation of ANOVA results\n",
    "\n"
   ]
  },
  {
   "cell_type": "markdown",
   "metadata": {},
   "source": [
    "## Hypothesis 2 - Teacher training and student performance\n",
    "### Hypothesis:\n",
    "A higher percentage of trained teachers is postively correlated with student retention and lower drop-out rates\n",
    "### Indicators:\n",
    "1. Percentage of new recruited teachers trained (primary, secondary, by gender)\n",
    "2. Cumulative drop-out rates"
   ]
  },
  {
   "cell_type": "markdown",
   "metadata": {},
   "source": [
    "## Hypothesis 3 - School resources and Literacty:\n",
    "### Hypothesis:\n",
    "Schools with better access to infrastructure (electricty, potable water, toilets) will have higher enrolment rates\n",
    "\n",
    "### Indicators:\n",
    "1. Percentage of schools with access to electricity, potable water, mixed-sex/single-sex toilets\n",
    "2. Net enrolment rates (primary, secondary)"
   ]
  },
  {
   "cell_type": "markdown",
   "metadata": {},
   "source": []
  },
  {
   "cell_type": "markdown",
   "metadata": {},
   "source": [
    "## Hypothesis 4 - Government Expenditure and Enrolment\n",
    "\n",
    "### Hypothesis:\n",
    "Higher government expenditure on education correlates with increased enrolment rates\n",
    "\n",
    "### Indicators:\n",
    "1. Expenditure as % of total in public institutions (primary, secondary)\n",
    "2. Net enrolement rate (primary, secondary)\n"
   ]
  },
  {
   "cell_type": "markdown",
   "metadata": {},
   "source": []
  }
 ],
 "metadata": {
  "kernelspec": {
   "display_name": ".venv",
   "language": "python",
   "name": "python3"
  },
  "language_info": {
   "codemirror_mode": {
    "name": "ipython",
    "version": 3
   },
   "file_extension": ".py",
   "mimetype": "text/x-python",
   "name": "python",
   "nbconvert_exporter": "python",
   "pygments_lexer": "ipython3",
   "version": "3.12.6"
  }
 },
 "nbformat": 4,
 "nbformat_minor": 2
}
